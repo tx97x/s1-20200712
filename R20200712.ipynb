{
  "cells": [
    {
      "cell_type": "code",
      "execution_count": 1,
      "metadata": {
        "id": "ft9ZVvfTEjUV"
      },
      "outputs": [],
      "source": [
        "from nltk.sem import Expression\n",
        "import nltk.sem.logic as L"
      ]
    },
    {
      "cell_type": "code",
      "execution_count": 11,
      "metadata": {
        "id": "NgUavERaE0fp"
      },
      "outputs": [],
      "source": [
        "def eliminate_implication(expr):\n",
        "    if isinstance(expr, L.ImpExpression):\n",
        "        return L.OrExpression(L.NegatedExpression(eliminate_implication(expr.first)), eliminate_implication(expr.second))\n",
        "    elif isinstance(expr, L.BinaryExpression):\n",
        "        return expr.__class__(eliminate_implication(expr.first), eliminate_implication(expr.second))\n",
        "    elif isinstance(expr, L.NegatedExpression):\n",
        "        return L.NegatedExpression(eliminate_implication(expr.term))\n",
        "    elif isinstance(expr, L.QuantifiedExpression):\n",
        "        return expr.__class__(expr.variable, eliminate_implication(expr.term))\n",
        "    else:\n",
        "        return expr"
      ]
    },
    {
      "cell_type": "code",
      "execution_count": 12,
      "metadata": {},
      "outputs": [
        {
          "name": "stdout",
          "output_type": "stream",
          "text": [
            "(-(-P | R) | -Q | Z)\n"
          ]
        }
      ],
      "source": [
        "expr = Expression.fromstring('((P -> R) -> (Q -> Z))')\n",
        "print(eliminate_implication(expr))"
      ]
    },
    {
      "cell_type": "code",
      "execution_count": 14,
      "metadata": {
        "id": "aCmRkSv8F2vz"
      },
      "outputs": [],
      "source": [
        "def move_negation_inward(expr): # Demorgan Law\n",
        "    if isinstance(expr, L.NegatedExpression):\n",
        "        if isinstance(expr.term, L.AndExpression):\n",
        "            return L.OrExpression(move_negation_inward(L.NegatedExpression(expr.term.first)), move_negation_inward(L.NegatedExpression(expr.term.second)))\n",
        "        elif isinstance(expr.term, L.OrExpression):\n",
        "            return L.AndExpression(move_negation_inward(L.NegatedExpression(expr.term.first)), move_negation_inward(L.NegatedExpression(expr.term.second)))\n",
        "        elif isinstance(expr.term, L.NegatedExpression):\n",
        "            return move_negation_inward(expr.term.term)\n",
        "        else:\n",
        "            return expr\n",
        "    elif isinstance(expr, L.BinaryExpression):\n",
        "        return expr.__class__(move_negation_inward(expr.first), move_negation_inward(expr.second))\n",
        "    elif isinstance(expr, L.QuantifiedExpression):\n",
        "        return expr.__class__(expr.variable, move_negation_inward(expr.term))\n",
        "    else:\n",
        "        return expr"
      ]
    },
    {
      "cell_type": "code",
      "execution_count": 15,
      "metadata": {},
      "outputs": [
        {
          "name": "stdout",
          "output_type": "stream",
          "text": [
            "((P & -R) | -Q | Z)\n"
          ]
        }
      ],
      "source": [
        "expr = Expression.fromstring('(-(-P | R) | -Q | Z)')\n",
        "print(move_negation_inward(expr))"
      ]
    },
    {
      "cell_type": "code",
      "execution_count": 16,
      "metadata": {
        "id": "kc2akMz2GE0_"
      },
      "outputs": [],
      "source": [
        "def remove_double_negation(expr):\n",
        "    if isinstance(expr, L.NegatedExpression):\n",
        "        if isinstance(expr.term, L.NegatedExpression):\n",
        "            return remove_double_negation(expr.term.term)\n",
        "        else:\n",
        "            return L.NegatedExpression(remove_double_negation(expr.term))\n",
        "    elif isinstance(expr, L.BinaryExpression):\n",
        "        return expr.__class__(remove_double_negation(expr.first), remove_double_negation(expr.second))\n",
        "    elif isinstance(expr, L.QuantifiedExpression):\n",
        "        return expr.__class__(expr.variable, remove_double_negation(expr.term))\n",
        "    else:\n",
        "        return expr"
      ]
    },
    {
      "cell_type": "code",
      "execution_count": 17,
      "metadata": {},
      "outputs": [
        {
          "name": "stdout",
          "output_type": "stream",
          "text": [
            "all x.(P(x) & Q(x))\n"
          ]
        }
      ],
      "source": [
        "expr = Expression.fromstring('all x. --(P(x) & Q(x))')\n",
        "print(remove_double_negation(expr))"
      ]
    },
    {
      "cell_type": "code",
      "execution_count": 21,
      "metadata": {
        "id": "tD3VxaEaGCgB"
      },
      "outputs": [],
      "source": [
        "def standardize_variable_scope(expr, counter=1):\n",
        "    if isinstance(expr, L.QuantifiedExpression):\n",
        "        old_var = expr.variable\n",
        "        new_var = L.Variable(expr.variable.name + str(counter))\n",
        "        counter += 1\n",
        "        return expr.__class__(new_var, expr.term.replace(old_var, L.VariableExpression(new_var)))\n",
        "    elif isinstance(expr, L.ApplicationExpression):\n",
        "        return L.ApplicationExpression(standardize_variable_scope(expr.function, counter), [standardize_variable_scope(arg, counter) for arg in expr.args])\n",
        "    elif isinstance(expr, L.BinaryExpression):\n",
        "        return expr.__class__(standardize_variable_scope(expr.first, counter), standardize_variable_scope(expr.second, counter + 1))\n",
        "    elif isinstance(expr, L.NegatedExpression):\n",
        "        return L.NegatedExpression(standardize_variable_scope(expr.term, counter))\n",
        "    else:\n",
        "        return expr"
      ]
    },
    {
      "cell_type": "code",
      "execution_count": 31,
      "metadata": {},
      "outputs": [
        {
          "name": "stdout",
          "output_type": "stream",
          "text": [
            "(exists x1.P(x1) | all x2.(Q(x2) & R(x2)))\n"
          ]
        }
      ],
      "source": [
        "expr = Expression.fromstring('exists x. P(x) | (all x. (Q(x) & R(x)))')\n",
        "print(standardize_variable_scope(expr))"
      ]
    },
    {
      "cell_type": "code",
      "execution_count": 36,
      "metadata": {
        "id": "nqSrGp5GGBBF"
      },
      "outputs": [],
      "source": [
        "def prenex_form(expr):\n",
        "    if isinstance(expr, L.BinaryExpression):\n",
        "        first = prenex_form(expr.first)\n",
        "        second = prenex_form(expr.second)\n",
        "        if isinstance(first, L.QuantifiedExpression) and not isinstance(second, L.QuantifiedExpression):\n",
        "            return first.__class__(first.variable, expr.__class__(first.term, second))\n",
        "        elif not isinstance(first, L.QuantifiedExpression) and isinstance(second, L.QuantifiedExpression):\n",
        "            return second.__class__(second.variable, expr.__class__(first, second.term))\n",
        "        elif isinstance(first, L.QuantifiedExpression) and isinstance(second, L.QuantifiedExpression):\n",
        "            return first.__class__(first.variable, prenex_form(expr.__class__(first.term, second)))\n",
        "        else:\n",
        "            return expr\n",
        "    elif isinstance(expr, L.NegatedExpression):\n",
        "        return L.NegatedExpression(prenex_form(expr.term))\n",
        "    elif isinstance(expr, L.QuantifiedExpression):\n",
        "        return expr.__class__(expr.variable, prenex_form(expr.term))\n",
        "    else:\n",
        "        return expr"
      ]
    },
    {
      "cell_type": "code",
      "execution_count": 37,
      "metadata": {},
      "outputs": [
        {
          "name": "stdout",
          "output_type": "stream",
          "text": [
            "all x y.(P(x) | Q(y))\n"
          ]
        }
      ],
      "source": [
        "expr = Expression.fromstring('(all x. P(x)) | (all y. Q(y))')\n",
        "print(prenex_form(expr))"
      ]
    },
    {
      "cell_type": "code",
      "execution_count": 38,
      "metadata": {
        "id": "L6GQMakgF9nW"
      },
      "outputs": [],
      "source": [
        "def skolemization(expr, counter=1):\n",
        "    if isinstance(expr, L.ExistsExpression):\n",
        "        new_func = L.FunctionVariableExpression(L.Variable('f' + str(counter)))\n",
        "        counter += 1\n",
        "        return skolemization(expr.term.replace(expr.variable, new_func), counter)\n",
        "    elif isinstance(expr, L.BinaryExpression):\n",
        "        return expr.__class__(skolemization(expr.first, counter), skolemization(expr.second, counter))\n",
        "    elif isinstance(expr, L.NegatedExpression):\n",
        "        return L.NegatedExpression(skolemization(expr.term, counter))\n",
        "    elif isinstance(expr, L.QuantifiedExpression):\n",
        "        return expr.__class__(expr.variable, skolemization(expr.term, counter))\n",
        "    else:\n",
        "        return expr"
      ]
    },
    {
      "cell_type": "code",
      "execution_count": 39,
      "metadata": {},
      "outputs": [
        {
          "name": "stdout",
          "output_type": "stream",
          "text": [
            "(P(f1) | all y.(Q(y) -> R(f1,y)))\n"
          ]
        }
      ],
      "source": [
        "expr = Expression.fromstring('exists x. (P(x) | all y. (Q(y) -> R(x, y)))')\n",
        "print(skolemization(expr))"
      ]
    },
    {
      "cell_type": "code",
      "execution_count": 40,
      "metadata": {
        "id": "s2NRZnVHF2Ss"
      },
      "outputs": [],
      "source": [
        "def eliminate_universal_quantifiers(expr):\n",
        "    if isinstance(expr, L.AllExpression):\n",
        "        return eliminate_universal_quantifiers(expr.term)\n",
        "    elif isinstance(expr, L.BinaryExpression):\n",
        "        return expr.__class__(eliminate_universal_quantifiers(expr.first), eliminate_universal_quantifiers(expr.second))\n",
        "    elif isinstance(expr, L.NegatedExpression):\n",
        "        return L.NegatedExpression(eliminate_universal_quantifiers(expr.term))\n",
        "    else:\n",
        "        return expr"
      ]
    },
    {
      "cell_type": "code",
      "execution_count": 41,
      "metadata": {},
      "outputs": [
        {
          "name": "stdout",
          "output_type": "stream",
          "text": [
            "(P(x) -> Q(y))\n"
          ]
        }
      ],
      "source": [
        "expr = Expression.fromstring('all x. (P(x) -> all y. Q(y))')\n",
        "print(eliminate_universal_quantifiers(expr))"
      ]
    },
    {
      "cell_type": "code",
      "execution_count": 42,
      "metadata": {
        "id": "aDJmD51mF2OH"
      },
      "outputs": [],
      "source": [
        "def convert_to_cnf(expr):\n",
        "    if isinstance(expr, L.AndExpression):\n",
        "        return L.AndExpression(convert_to_cnf(expr.first), convert_to_cnf(expr.second))\n",
        "    elif isinstance(expr, L.OrExpression):\n",
        "        first = convert_to_cnf(expr.first)\n",
        "        second = convert_to_cnf(expr.second)\n",
        "        if isinstance(first, L.AndExpression):\n",
        "            return L.AndExpression(L.OrExpression(first.first, second), L.OrExpression(first.second, second))\n",
        "        elif isinstance(second, L.AndExpression):\n",
        "            return L.AndExpression(L.OrExpression(first, second.first), L.OrExpression(first, second.second))\n",
        "        else:\n",
        "            return expr\n",
        "    elif isinstance(expr, L.NegatedExpression):\n",
        "        return L.NegatedExpression(convert_to_cnf(expr.term))\n",
        "    elif isinstance(expr, L.QuantifiedExpression):\n",
        "        return expr.__class__(expr.variable, convert_to_cnf(expr.term))\n",
        "    else:\n",
        "        return expr"
      ]
    },
    {
      "cell_type": "code",
      "execution_count": 43,
      "metadata": {},
      "outputs": [
        {
          "name": "stdout",
          "output_type": "stream",
          "text": [
            "((P | Q) & (P | R))\n"
          ]
        }
      ],
      "source": [
        "expr = Expression.fromstring('P | (Q & R)')\n",
        "print(convert_to_cnf(expr))"
      ]
    },
    {
      "cell_type": "code",
      "execution_count": 44,
      "metadata": {
        "id": "yO8wSQA2F2JT"
      },
      "outputs": [],
      "source": [
        "def turn_conjunctions_into_clauses(expr):\n",
        "    if isinstance(expr, L.AndExpression):\n",
        "        return turn_conjunctions_into_clauses(expr.first) | turn_conjunctions_into_clauses(expr.second)\n",
        "    else:\n",
        "        return {expr}"
      ]
    },
    {
      "cell_type": "code",
      "execution_count": 45,
      "metadata": {},
      "outputs": [
        {
          "name": "stdout",
          "output_type": "stream",
          "text": [
            "{<OrExpression (R | S)>, <OrExpression (P | Q)>}\n"
          ]
        }
      ],
      "source": [
        "expr = Expression.fromstring('(P | Q) & (R | S)')\n",
        "print(turn_conjunctions_into_clauses(expr))"
      ]
    },
    {
      "cell_type": "code",
      "execution_count": 60,
      "metadata": {
        "id": "-g0ffmaWF2FK"
      },
      "outputs": [],
      "source": [
        "def rename_variables(expr, counter=-1):\n",
        "    if isinstance(expr, L.ApplicationExpression):\n",
        "        return L.ApplicationExpression(expr.function, rename_variables(expr.argument, counter))\n",
        "    elif isinstance(expr, L.IndividualVariableExpression):\n",
        "        return L.IndividualVariableExpression(L.Variable(expr.variable.name + str(counter)))\n",
        "    elif isinstance(expr, L.BinaryExpression):\n",
        "        counter += 1\n",
        "        return expr.__class__(rename_variables(expr.first, counter), rename_variables(expr.second, counter))\n",
        "    elif isinstance(expr, L.NegatedExpression):\n",
        "        return L.NegatedExpression(rename_variables(expr.term, counter))\n",
        "    else:\n",
        "        return expr"
      ]
    },
    {
      "cell_type": "code",
      "execution_count": 67,
      "metadata": {},
      "outputs": [
        {
          "name": "stdout",
          "output_type": "stream",
          "text": [
            "(P(x1) & Q(y1) & T(u1) & (R(z2) | S(w2)))\n"
          ]
        }
      ],
      "source": [
        "expr = Expression.fromstring('P(x) & Q(y) & (T(u) & (R(z) | S(w)))')\n",
        "print(rename_variables(expr))"
      ]
    },
    {
      "cell_type": "code",
      "execution_count": 48,
      "metadata": {
        "id": "qQ0IPsj8F16C"
      },
      "outputs": [],
      "source": [
        "def resolution_procedure(expr):\n",
        "    expr = eliminate_implication(expr)\n",
        "    expr = move_negation_inward(expr)\n",
        "    expr = remove_double_negation(expr)\n",
        "    expr = standardize_variable_scope(expr)\n",
        "    expr = prenex_form(expr)\n",
        "    expr = skolemization(expr)\n",
        "    expr = eliminate_universal_quantifiers(expr)\n",
        "    expr = convert_to_cnf(expr)\n",
        "    expr = turn_conjunctions_into_clauses(expr)\n",
        "    expr = rename_variables(expr)\n",
        "\n",
        "    return expr"
      ]
    }
  ],
  "metadata": {
    "colab": {
      "provenance": []
    },
    "kernelspec": {
      "display_name": "Python 3",
      "name": "python3"
    },
    "language_info": {
      "codemirror_mode": {
        "name": "ipython",
        "version": 3
      },
      "file_extension": ".py",
      "mimetype": "text/x-python",
      "name": "python",
      "nbconvert_exporter": "python",
      "pygments_lexer": "ipython3",
      "version": "3.9.13"
    }
  },
  "nbformat": 4,
  "nbformat_minor": 0
}
